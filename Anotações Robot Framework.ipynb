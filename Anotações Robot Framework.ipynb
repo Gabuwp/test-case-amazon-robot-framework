{
 "cells": [
  {
   "cell_type": "markdown",
   "id": "30b79f77-78f6-4a2f-89eb-941d572b396b",
   "metadata": {},
   "source": [
    "# Anotações Robot Framework"
   ]
  },
  {
   "cell_type": "markdown",
   "id": "acc36f13-9d3c-4327-bddb-00bfb239f57b",
   "metadata": {},
   "source": [
    "## Comandos úteis"
   ]
  },
  {
   "cell_type": "markdown",
   "id": "8c36ac75-427d-4d29-995d-139aeff51a4b",
   "metadata": {},
   "source": [
    "Executa apenas os casos de testes que contém as tags mencionadas:\n",
    "    robot -i [tags] + arquivo_de_testes.robot\n",
    "    \n",
    "Executa apenas os casos de teste informados:\n",
    "    robot -t \"Caso de teste 02 - Pesquisa de um produto\" + arquivo_de_testes.robot\n",
    "    \n",
    "Executando casos de teste e criando uma pasta para gerar os resultados:\n",
    "    robot -d resultados + arqvui_de_testes.robot\n",
    "    \n",
    "Executando casos de teste e definindo valores personalizados para variáveis globais:\n",
    "    robot -v BROWSER:edge + arquivo_de_testes.robot\n",
    "    \n",
    "Executando casos de teste com base nas tags mencionadas e definindo valores personalizados para variáveis globais, por fim gerando uma pasta resultados:\n",
    "    robot -v BROWSER:edge + -v URL:http://www.google.com + -i [tags] + -d resultados arquivo_de_testes.robot"
   ]
  },
  {
   "cell_type": "code",
   "execution_count": null,
   "id": "41e0ed27-7f00-42db-85f6-c67a36dcc9c5",
   "metadata": {},
   "outputs": [],
   "source": []
  },
  {
   "cell_type": "code",
   "execution_count": null,
   "id": "6496ee99-be04-4628-8059-7dc9a7c91c4c",
   "metadata": {},
   "outputs": [],
   "source": []
  }
 ],
 "metadata": {
  "kernelspec": {
   "display_name": "Python 3 (ipykernel)",
   "language": "python",
   "name": "python3"
  },
  "language_info": {
   "codemirror_mode": {
    "name": "ipython",
    "version": 3
   },
   "file_extension": ".py",
   "mimetype": "text/x-python",
   "name": "python",
   "nbconvert_exporter": "python",
   "pygments_lexer": "ipython3",
   "version": "3.10.12"
  }
 },
 "nbformat": 4,
 "nbformat_minor": 5
}
