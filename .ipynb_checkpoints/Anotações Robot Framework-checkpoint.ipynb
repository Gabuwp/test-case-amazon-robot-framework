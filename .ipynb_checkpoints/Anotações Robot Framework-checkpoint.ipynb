{
 "cells": [
  {
   "cell_type": "code",
   "execution_count": null,
   "id": "259d9aa9-4c6d-4a18-b226-db6060030652",
   "metadata": {},
   "outputs": [],
   "source": [
    "pip install --upgrade robotframework-seleniumlibrary"
   ]
  },
  {
   "cell_type": "code",
   "execution_count": null,
   "id": "92b99ef0-0071-47a6-a54f-a18234ae0b7f",
   "metadata": {},
   "outputs": [],
   "source": []
  }
 ],
 "metadata": {
  "kernelspec": {
   "display_name": "Python 3 (ipykernel)",
   "language": "python",
   "name": "python3"
  },
  "language_info": {
   "codemirror_mode": {
    "name": "ipython",
    "version": 3
   },
   "file_extension": ".py",
   "mimetype": "text/x-python",
   "name": "python",
   "nbconvert_exporter": "python",
   "pygments_lexer": "ipython3",
   "version": "3.10.12"
  }
 },
 "nbformat": 4,
 "nbformat_minor": 5
}
